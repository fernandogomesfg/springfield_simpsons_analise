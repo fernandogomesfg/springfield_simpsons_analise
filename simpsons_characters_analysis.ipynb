{
 "cells": [
  {
   "cell_type": "markdown",
   "metadata": {},
   "source": [
    "# Análise dos Personagens dos Simpsons\n",
    "\n",
    "Este notebook tem como objetivo realizar uma análise básica do dataset \"simpsons_characters.csv\", que contém informações sobre os personagens da série Os Simpsons.\n",
    "\n",
    "## Objetivos da Análise\n",
    "\n",
    "1. **Contagem de Personagens por Gênero:** Analisar a distribuição dos personagens por gênero na série.\n",
    "2. **Verificação de Personagens Únicos:** Verificar se há personagens duplicados no dataset.\n",
    "\n",
    "## Bibliotecas Utilizadas\n",
    "\n",
    "- [pandas](https://pandas.pydata.org/): Para manipulação e análise de dados.\n",
    "- [matplotlib](https://matplotlib.org/): Para visualização de dados.\n",
    "\n",
    "## Passos da Análise\n",
    "\n",
    "1. Carregamento dos Dados\n",
    "2. Contagem de Personagens por Gênero\n",
    "3. Verificação de Personagens Únicos\n",
    "\n",
    "## Arquivos Utilizados\n",
    "\n",
    "- **simpsons_characters.csv:** Dataset principal contendo informações sobre os personagens."
   ]
  },
  {
   "cell_type": "code",
   "execution_count": 1,
   "metadata": {},
   "outputs": [],
   "source": [
    "# Importando as bibliotecas necessárias\n",
    "import pandas as pd\n",
    "import matplotlib.pyplot as plt"
   ]
  },
  {
   "cell_type": "code",
   "execution_count": 22,
   "metadata": {},
   "outputs": [],
   "source": [
    "# Carregando o dataset\n",
    "file_path = \"data/simpsons_characters.csv\"\n",
    "simpsons_characters = pd.read_csv(file_path)"
   ]
  },
  {
   "cell_type": "code",
   "execution_count": 5,
   "metadata": {},
   "outputs": [
    {
     "data": {
      "text/html": [
       "<div>\n",
       "<style scoped>\n",
       "    .dataframe tbody tr th:only-of-type {\n",
       "        vertical-align: middle;\n",
       "    }\n",
       "\n",
       "    .dataframe tbody tr th {\n",
       "        vertical-align: top;\n",
       "    }\n",
       "\n",
       "    .dataframe thead th {\n",
       "        text-align: right;\n",
       "    }\n",
       "</style>\n",
       "<table border=\"1\" class=\"dataframe\">\n",
       "  <thead>\n",
       "    <tr style=\"text-align: right;\">\n",
       "      <th></th>\n",
       "      <th>id</th>\n",
       "      <th>name</th>\n",
       "      <th>normalized_name</th>\n",
       "      <th>gender</th>\n",
       "    </tr>\n",
       "  </thead>\n",
       "  <tbody>\n",
       "    <tr>\n",
       "      <th>0</th>\n",
       "      <td>7</td>\n",
       "      <td>Children</td>\n",
       "      <td>children</td>\n",
       "      <td>NaN</td>\n",
       "    </tr>\n",
       "    <tr>\n",
       "      <th>1</th>\n",
       "      <td>12</td>\n",
       "      <td>Mechanical Santa</td>\n",
       "      <td>mechanical santa</td>\n",
       "      <td>NaN</td>\n",
       "    </tr>\n",
       "    <tr>\n",
       "      <th>2</th>\n",
       "      <td>13</td>\n",
       "      <td>Tattoo Man</td>\n",
       "      <td>tattoo man</td>\n",
       "      <td>NaN</td>\n",
       "    </tr>\n",
       "    <tr>\n",
       "      <th>3</th>\n",
       "      <td>16</td>\n",
       "      <td>DOCTOR ZITSOFSKY</td>\n",
       "      <td>doctor zitsofsky</td>\n",
       "      <td>NaN</td>\n",
       "    </tr>\n",
       "    <tr>\n",
       "      <th>4</th>\n",
       "      <td>20</td>\n",
       "      <td>Students</td>\n",
       "      <td>students</td>\n",
       "      <td>NaN</td>\n",
       "    </tr>\n",
       "    <tr>\n",
       "      <th>...</th>\n",
       "      <td>...</td>\n",
       "      <td>...</td>\n",
       "      <td>...</td>\n",
       "      <td>...</td>\n",
       "    </tr>\n",
       "    <tr>\n",
       "      <th>6717</th>\n",
       "      <td>5222</td>\n",
       "      <td>Ron Rabinowitz</td>\n",
       "      <td>ron rabinowitz</td>\n",
       "      <td>m</td>\n",
       "    </tr>\n",
       "    <tr>\n",
       "      <th>6718</th>\n",
       "      <td>5728</td>\n",
       "      <td>Martha Stewart</td>\n",
       "      <td>martha stewart</td>\n",
       "      <td>f</td>\n",
       "    </tr>\n",
       "    <tr>\n",
       "      <th>6719</th>\n",
       "      <td>1770</td>\n",
       "      <td>Officer Goodman</td>\n",
       "      <td>officer goodman</td>\n",
       "      <td>m</td>\n",
       "    </tr>\n",
       "    <tr>\n",
       "      <th>6720</th>\n",
       "      <td>1634</td>\n",
       "      <td>Evan Conover</td>\n",
       "      <td>evan conover</td>\n",
       "      <td>m</td>\n",
       "    </tr>\n",
       "    <tr>\n",
       "      <th>6721</th>\n",
       "      <td>1868</td>\n",
       "      <td>Agent Johnson</td>\n",
       "      <td>agent johnson</td>\n",
       "      <td>m</td>\n",
       "    </tr>\n",
       "  </tbody>\n",
       "</table>\n",
       "<p>6722 rows × 4 columns</p>\n",
       "</div>"
      ],
      "text/plain": [
       "        id              name   normalized_name gender\n",
       "0        7          Children          children    NaN\n",
       "1       12  Mechanical Santa  mechanical santa    NaN\n",
       "2       13        Tattoo Man        tattoo man    NaN\n",
       "3       16  DOCTOR ZITSOFSKY  doctor zitsofsky    NaN\n",
       "4       20          Students          students    NaN\n",
       "...    ...               ...               ...    ...\n",
       "6717  5222    Ron Rabinowitz    ron rabinowitz      m\n",
       "6718  5728    Martha Stewart    martha stewart      f\n",
       "6719  1770   Officer Goodman   officer goodman      m\n",
       "6720  1634      Evan Conover      evan conover      m\n",
       "6721  1868     Agent Johnson     agent johnson      m\n",
       "\n",
       "[6722 rows x 4 columns]"
      ]
     },
     "execution_count": 5,
     "metadata": {},
     "output_type": "execute_result"
    }
   ],
   "source": [
    "simpsons_characters"
   ]
  },
  {
   "cell_type": "markdown",
   "metadata": {},
   "source": [
    "## Contagem de Personagens por Gênero"
   ]
  },
  {
   "cell_type": "code",
   "execution_count": 11,
   "metadata": {},
   "outputs": [],
   "source": [
    "# Contagem de personagens por gênero\n",
    "gender_counts = simpsons_characters['gender'].value_counts()"
   ]
  },
  {
   "cell_type": "code",
   "execution_count": 12,
   "metadata": {},
   "outputs": [
    {
     "data": {
      "text/plain": [
       "gender\n",
       "m    252\n",
       "f     71\n",
       "Name: count, dtype: int64"
      ]
     },
     "execution_count": 12,
     "metadata": {},
     "output_type": "execute_result"
    }
   ],
   "source": [
    "gender_counts"
   ]
  },
  {
   "cell_type": "code",
   "execution_count": 15,
   "metadata": {},
   "outputs": [
    {
     "data": {
      "image/png": "[encoded data removed]",
      "text/plain": [
       "<Figure size 800x600 with 1 Axes>"
      ]
     },
     "metadata": {},
     "output_type": "display_data"
    }
   ],
   "source": [
    "# Plotando um gráfico de barras para visualizar a distribuição dos personagens por gênero\n",
    "plt.figure(figsize=(8, 6))\n",
    "gender_counts.plot(kind='bar', color=['blue', 'pink'], alpha=0.7)\n",
    "plt.title('Distribuição de Personagens por Gênero')\n",
    "plt.xlabel('Gênero')\n",
    "plt.ylabel('Número de Personagens')\n",
    "plt.xticks(rotation=0)\n",
    "plt.show()"
   ]
  },
  {
   "cell_type": "markdown",
   "metadata": {},
   "source": [
    "## Verificação de Personagens Únicos"
   ]
  },
  {
   "cell_type": "code",
   "execution_count": 23,
   "metadata": {},
   "outputs": [
    {
     "name": "stdout",
     "output_type": "stream",
     "text": [
      "Não há personagens duplicados.\n"
     ]
    }
   ],
   "source": [
    "# Verificação de personagens únicos versus repetidos\n",
    "duplicate_characters = simpsons_characters[simpsons_characters.duplicated(subset=['normalized_name'], keep=False)]\n",
    "\n",
    "if not duplicate_characters.empty:\n",
    "    print(\"Personagens duplicados encontrados:\")\n",
    "    print(duplicate_characters[['id', 'name']])\n",
    "else:\n",
    "    print(\"Não há personagens duplicados.\")\n"
   ]
  }
 ],
 "metadata": {
  "kernelspec": {
   "display_name": "venv",
   "language": "python",
   "name": "python3"
  },
  "language_info": {
   "codemirror_mode": {
    "name": "ipython",
    "version": 3
   },
   "file_extension": ".py",
   "mimetype": "text/x-python",
   "name": "python",
   "nbconvert_exporter": "python",
   "pygments_lexer": "ipython3",
   "version": "3.11.2"
  }
 },
 "nbformat": 4,
 "nbformat_minor": 2
}
